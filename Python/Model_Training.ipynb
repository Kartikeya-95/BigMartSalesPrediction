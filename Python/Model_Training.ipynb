{
 "cells": [
  {
   "cell_type": "code",
   "execution_count": 72,
   "metadata": {},
   "outputs": [],
   "source": [
    "import numpy as np\n",
    "import pandas as pd "
   ]
  },
  {
   "cell_type": "code",
   "execution_count": 73,
   "metadata": {},
   "outputs": [],
   "source": [
    "train = pd.read_csv('../Transformed_Train.csv')\n",
    "test = pd.read_csv('../Transformed_Test.csv')"
   ]
  },
  {
   "cell_type": "code",
   "execution_count": 74,
   "metadata": {},
   "outputs": [
    {
     "data": {
      "text/html": [
       "<div>\n",
       "<style scoped>\n",
       "    .dataframe tbody tr th:only-of-type {\n",
       "        vertical-align: middle;\n",
       "    }\n",
       "\n",
       "    .dataframe tbody tr th {\n",
       "        vertical-align: top;\n",
       "    }\n",
       "\n",
       "    .dataframe thead th {\n",
       "        text-align: right;\n",
       "    }\n",
       "</style>\n",
       "<table border=\"1\" class=\"dataframe\">\n",
       "  <thead>\n",
       "    <tr style=\"text-align: right;\">\n",
       "      <th></th>\n",
       "      <th>Item_Fat_Content</th>\n",
       "      <th>Item_Identifier</th>\n",
       "      <th>Item_MRP</th>\n",
       "      <th>Item_Outlet_Sales</th>\n",
       "      <th>Item_Type</th>\n",
       "      <th>Item_Visibility</th>\n",
       "      <th>Outlet_Identifier</th>\n",
       "      <th>Outlet_Location_Type</th>\n",
       "      <th>Outlet_Size</th>\n",
       "      <th>Outlet_Type</th>\n",
       "      <th>Operational_Years</th>\n",
       "      <th>Price_Per_Unit_Weight</th>\n",
       "    </tr>\n",
       "  </thead>\n",
       "  <tbody>\n",
       "    <tr>\n",
       "      <th>0</th>\n",
       "      <td>Low Fat</td>\n",
       "      <td>Food</td>\n",
       "      <td>4th</td>\n",
       "      <td>3735.1380</td>\n",
       "      <td>Perishable</td>\n",
       "      <td>0.016047</td>\n",
       "      <td>OUT049</td>\n",
       "      <td>Tier 1</td>\n",
       "      <td>Medium</td>\n",
       "      <td>Supermarket Type1</td>\n",
       "      <td>20</td>\n",
       "      <td>26.861204</td>\n",
       "    </tr>\n",
       "    <tr>\n",
       "      <th>1</th>\n",
       "      <td>Regular</td>\n",
       "      <td>Drink</td>\n",
       "      <td>1st</td>\n",
       "      <td>443.4228</td>\n",
       "      <td>Non Perishable</td>\n",
       "      <td>0.019278</td>\n",
       "      <td>OUT018</td>\n",
       "      <td>Tier 3</td>\n",
       "      <td>Medium</td>\n",
       "      <td>Supermarket Type2</td>\n",
       "      <td>10</td>\n",
       "      <td>8.153581</td>\n",
       "    </tr>\n",
       "    <tr>\n",
       "      <th>2</th>\n",
       "      <td>Low Fat</td>\n",
       "      <td>Food</td>\n",
       "      <td>3rd</td>\n",
       "      <td>2097.2700</td>\n",
       "      <td>Perishable</td>\n",
       "      <td>0.016760</td>\n",
       "      <td>OUT049</td>\n",
       "      <td>Tier 1</td>\n",
       "      <td>Medium</td>\n",
       "      <td>Supermarket Type1</td>\n",
       "      <td>20</td>\n",
       "      <td>8.092457</td>\n",
       "    </tr>\n",
       "    <tr>\n",
       "      <th>3</th>\n",
       "      <td>Regular</td>\n",
       "      <td>Food</td>\n",
       "      <td>3rd</td>\n",
       "      <td>732.3800</td>\n",
       "      <td>Perishable</td>\n",
       "      <td>0.017834</td>\n",
       "      <td>OUT010</td>\n",
       "      <td>Tier 3</td>\n",
       "      <td>Small</td>\n",
       "      <td>Grocery Store</td>\n",
       "      <td>21</td>\n",
       "      <td>9.484115</td>\n",
       "    </tr>\n",
       "    <tr>\n",
       "      <th>4</th>\n",
       "      <td>No Fat</td>\n",
       "      <td>Non-Consumable</td>\n",
       "      <td>1st</td>\n",
       "      <td>994.7052</td>\n",
       "      <td>Non Perishable</td>\n",
       "      <td>0.009780</td>\n",
       "      <td>OUT013</td>\n",
       "      <td>Tier 3</td>\n",
       "      <td>High</td>\n",
       "      <td>Supermarket Type1</td>\n",
       "      <td>32</td>\n",
       "      <td>6.031512</td>\n",
       "    </tr>\n",
       "  </tbody>\n",
       "</table>\n",
       "</div>"
      ],
      "text/plain": [
       "  Item_Fat_Content Item_Identifier Item_MRP  Item_Outlet_Sales  \\\n",
       "0          Low Fat            Food      4th          3735.1380   \n",
       "1          Regular           Drink      1st           443.4228   \n",
       "2          Low Fat            Food      3rd          2097.2700   \n",
       "3          Regular            Food      3rd           732.3800   \n",
       "4           No Fat  Non-Consumable      1st           994.7052   \n",
       "\n",
       "        Item_Type  Item_Visibility Outlet_Identifier Outlet_Location_Type  \\\n",
       "0      Perishable         0.016047            OUT049               Tier 1   \n",
       "1  Non Perishable         0.019278            OUT018               Tier 3   \n",
       "2      Perishable         0.016760            OUT049               Tier 1   \n",
       "3      Perishable         0.017834            OUT010               Tier 3   \n",
       "4  Non Perishable         0.009780            OUT013               Tier 3   \n",
       "\n",
       "  Outlet_Size        Outlet_Type  Operational_Years  Price_Per_Unit_Weight  \n",
       "0      Medium  Supermarket Type1                 20              26.861204  \n",
       "1      Medium  Supermarket Type2                 10               8.153581  \n",
       "2      Medium  Supermarket Type1                 20               8.092457  \n",
       "3       Small      Grocery Store                 21               9.484115  \n",
       "4        High  Supermarket Type1                 32               6.031512  "
      ]
     },
     "execution_count": 74,
     "metadata": {},
     "output_type": "execute_result"
    }
   ],
   "source": [
    "train.head()"
   ]
  },
  {
   "cell_type": "code",
   "execution_count": 75,
   "metadata": {},
   "outputs": [],
   "source": [
    "train1 = pd.read_csv('../Train.csv')\n",
    "test1 = pd.read_csv('../Test.csv')"
   ]
  },
  {
   "cell_type": "code",
   "execution_count": 76,
   "metadata": {},
   "outputs": [],
   "source": [
    "train['Item_Id'] = train['Item_Identifier']\n",
    "test['Item_Id'] = test['Item_Identifier']"
   ]
  },
  {
   "cell_type": "code",
   "execution_count": 77,
   "metadata": {},
   "outputs": [],
   "source": [
    "train['Item_Identifier'] = train1['Item_Identifier']\n",
    "test['Item_Identifier'] = test1['Item_Identifier']\n",
    "train['Outlet'] = train['Outlet_Identifier']\n",
    "test['Outlet'] = test['Outlet_Identifier']"
   ]
  },
  {
   "cell_type": "code",
   "execution_count": 78,
   "metadata": {},
   "outputs": [
    {
     "data": {
      "text/html": [
       "<div>\n",
       "<style scoped>\n",
       "    .dataframe tbody tr th:only-of-type {\n",
       "        vertical-align: middle;\n",
       "    }\n",
       "\n",
       "    .dataframe tbody tr th {\n",
       "        vertical-align: top;\n",
       "    }\n",
       "\n",
       "    .dataframe thead th {\n",
       "        text-align: right;\n",
       "    }\n",
       "</style>\n",
       "<table border=\"1\" class=\"dataframe\">\n",
       "  <thead>\n",
       "    <tr style=\"text-align: right;\">\n",
       "      <th></th>\n",
       "      <th>Item_Fat_Content</th>\n",
       "      <th>Item_Identifier</th>\n",
       "      <th>Item_MRP</th>\n",
       "      <th>Item_Outlet_Sales</th>\n",
       "      <th>Item_Type</th>\n",
       "      <th>Item_Visibility</th>\n",
       "      <th>Outlet_Identifier</th>\n",
       "      <th>Outlet_Location_Type</th>\n",
       "      <th>Outlet_Size</th>\n",
       "      <th>Outlet_Type</th>\n",
       "      <th>Operational_Years</th>\n",
       "      <th>Price_Per_Unit_Weight</th>\n",
       "      <th>Item_Id</th>\n",
       "      <th>Outlet</th>\n",
       "    </tr>\n",
       "  </thead>\n",
       "  <tbody>\n",
       "    <tr>\n",
       "      <th>0</th>\n",
       "      <td>Low Fat</td>\n",
       "      <td>FDA15</td>\n",
       "      <td>4th</td>\n",
       "      <td>3735.1380</td>\n",
       "      <td>Perishable</td>\n",
       "      <td>0.016047</td>\n",
       "      <td>OUT049</td>\n",
       "      <td>Tier 1</td>\n",
       "      <td>Medium</td>\n",
       "      <td>Supermarket Type1</td>\n",
       "      <td>20</td>\n",
       "      <td>26.861204</td>\n",
       "      <td>Food</td>\n",
       "      <td>OUT049</td>\n",
       "    </tr>\n",
       "    <tr>\n",
       "      <th>1</th>\n",
       "      <td>Regular</td>\n",
       "      <td>DRC01</td>\n",
       "      <td>1st</td>\n",
       "      <td>443.4228</td>\n",
       "      <td>Non Perishable</td>\n",
       "      <td>0.019278</td>\n",
       "      <td>OUT018</td>\n",
       "      <td>Tier 3</td>\n",
       "      <td>Medium</td>\n",
       "      <td>Supermarket Type2</td>\n",
       "      <td>10</td>\n",
       "      <td>8.153581</td>\n",
       "      <td>Drink</td>\n",
       "      <td>OUT018</td>\n",
       "    </tr>\n",
       "  </tbody>\n",
       "</table>\n",
       "</div>"
      ],
      "text/plain": [
       "  Item_Fat_Content Item_Identifier Item_MRP  Item_Outlet_Sales  \\\n",
       "0          Low Fat           FDA15      4th          3735.1380   \n",
       "1          Regular           DRC01      1st           443.4228   \n",
       "\n",
       "        Item_Type  Item_Visibility Outlet_Identifier Outlet_Location_Type  \\\n",
       "0      Perishable         0.016047            OUT049               Tier 1   \n",
       "1  Non Perishable         0.019278            OUT018               Tier 3   \n",
       "\n",
       "  Outlet_Size        Outlet_Type  Operational_Years  Price_Per_Unit_Weight  \\\n",
       "0      Medium  Supermarket Type1                 20              26.861204   \n",
       "1      Medium  Supermarket Type2                 10               8.153581   \n",
       "\n",
       "  Item_Id  Outlet  \n",
       "0    Food  OUT049  \n",
       "1   Drink  OUT018  "
      ]
     },
     "execution_count": 78,
     "metadata": {},
     "output_type": "execute_result"
    }
   ],
   "source": [
    "train.head(2)"
   ]
  },
  {
   "cell_type": "code",
   "execution_count": 79,
   "metadata": {},
   "outputs": [
    {
     "data": {
      "text/html": [
       "<div>\n",
       "<style scoped>\n",
       "    .dataframe tbody tr th:only-of-type {\n",
       "        vertical-align: middle;\n",
       "    }\n",
       "\n",
       "    .dataframe tbody tr th {\n",
       "        vertical-align: top;\n",
       "    }\n",
       "\n",
       "    .dataframe thead th {\n",
       "        text-align: right;\n",
       "    }\n",
       "</style>\n",
       "<table border=\"1\" class=\"dataframe\">\n",
       "  <thead>\n",
       "    <tr style=\"text-align: right;\">\n",
       "      <th></th>\n",
       "      <th>Item_Fat_Content</th>\n",
       "      <th>Item_Identifier</th>\n",
       "      <th>Item_MRP</th>\n",
       "      <th>Item_Type</th>\n",
       "      <th>Item_Visibility</th>\n",
       "      <th>Outlet_Identifier</th>\n",
       "      <th>Outlet_Location_Type</th>\n",
       "      <th>Outlet_Size</th>\n",
       "      <th>Outlet_Type</th>\n",
       "      <th>Operational_Years</th>\n",
       "      <th>Price_Per_Unit_Weight</th>\n",
       "      <th>Item_Id</th>\n",
       "      <th>Outlet</th>\n",
       "    </tr>\n",
       "  </thead>\n",
       "  <tbody>\n",
       "    <tr>\n",
       "      <th>0</th>\n",
       "      <td>Low Fat</td>\n",
       "      <td>FDW58</td>\n",
       "      <td>2nd</td>\n",
       "      <td>Unknown</td>\n",
       "      <td>0.007565</td>\n",
       "      <td>OUT049</td>\n",
       "      <td>Tier 1</td>\n",
       "      <td>Medium</td>\n",
       "      <td>Supermarket Type1</td>\n",
       "      <td>20</td>\n",
       "      <td>5.198178</td>\n",
       "      <td>Food</td>\n",
       "      <td>OUT049</td>\n",
       "    </tr>\n",
       "    <tr>\n",
       "      <th>1</th>\n",
       "      <td>Regular</td>\n",
       "      <td>FDW14</td>\n",
       "      <td>2nd</td>\n",
       "      <td>Perishable</td>\n",
       "      <td>0.038428</td>\n",
       "      <td>OUT017</td>\n",
       "      <td>Tier 2</td>\n",
       "      <td>Small</td>\n",
       "      <td>Supermarket Type1</td>\n",
       "      <td>12</td>\n",
       "      <td>10.520458</td>\n",
       "      <td>Food</td>\n",
       "      <td>OUT017</td>\n",
       "    </tr>\n",
       "  </tbody>\n",
       "</table>\n",
       "</div>"
      ],
      "text/plain": [
       "  Item_Fat_Content Item_Identifier Item_MRP   Item_Type  Item_Visibility  \\\n",
       "0          Low Fat           FDW58      2nd     Unknown         0.007565   \n",
       "1          Regular           FDW14      2nd  Perishable         0.038428   \n",
       "\n",
       "  Outlet_Identifier Outlet_Location_Type Outlet_Size        Outlet_Type  \\\n",
       "0            OUT049               Tier 1      Medium  Supermarket Type1   \n",
       "1            OUT017               Tier 2       Small  Supermarket Type1   \n",
       "\n",
       "   Operational_Years  Price_Per_Unit_Weight Item_Id  Outlet  \n",
       "0                 20               5.198178    Food  OUT049  \n",
       "1                 12              10.520458    Food  OUT017  "
      ]
     },
     "execution_count": 79,
     "metadata": {},
     "output_type": "execute_result"
    }
   ],
   "source": [
    "test.head(2)"
   ]
  },
  {
   "cell_type": "markdown",
   "metadata": {},
   "source": [
    "<h4> Encoding categorical variables. (One Hot Encoding) </h4>"
   ]
  },
  {
   "cell_type": "code",
   "execution_count": 80,
   "metadata": {},
   "outputs": [],
   "source": [
    "categorical_variables = ['Item_Fat_Content', 'Item_MRP', 'Item_Type', 'Outlet_Location_Type', \n",
    "                         'Outlet_Size', 'Outlet_Type', 'Item_Id', 'Outlet']"
   ]
  },
  {
   "cell_type": "code",
   "execution_count": 81,
   "metadata": {},
   "outputs": [],
   "source": [
    "train = pd.get_dummies(train, columns = categorical_variables, drop_first = True)\n",
    "test = pd.get_dummies(test, columns = categorical_variables, drop_first = True)"
   ]
  },
  {
   "cell_type": "code",
   "execution_count": 82,
   "metadata": {},
   "outputs": [
    {
     "data": {
      "text/html": [
       "<div>\n",
       "<style scoped>\n",
       "    .dataframe tbody tr th:only-of-type {\n",
       "        vertical-align: middle;\n",
       "    }\n",
       "\n",
       "    .dataframe tbody tr th {\n",
       "        vertical-align: top;\n",
       "    }\n",
       "\n",
       "    .dataframe thead th {\n",
       "        text-align: right;\n",
       "    }\n",
       "</style>\n",
       "<table border=\"1\" class=\"dataframe\">\n",
       "  <thead>\n",
       "    <tr style=\"text-align: right;\">\n",
       "      <th></th>\n",
       "      <th>Item_Identifier</th>\n",
       "      <th>Item_Outlet_Sales</th>\n",
       "      <th>Item_Visibility</th>\n",
       "      <th>Outlet_Identifier</th>\n",
       "      <th>Operational_Years</th>\n",
       "      <th>Price_Per_Unit_Weight</th>\n",
       "      <th>Item_Fat_Content_No Fat</th>\n",
       "      <th>Item_Fat_Content_Regular</th>\n",
       "      <th>Item_MRP_2nd</th>\n",
       "      <th>Item_MRP_3rd</th>\n",
       "      <th>...</th>\n",
       "      <th>Item_Id_Non-Consumable</th>\n",
       "      <th>Outlet_OUT013</th>\n",
       "      <th>Outlet_OUT017</th>\n",
       "      <th>Outlet_OUT018</th>\n",
       "      <th>Outlet_OUT019</th>\n",
       "      <th>Outlet_OUT027</th>\n",
       "      <th>Outlet_OUT035</th>\n",
       "      <th>Outlet_OUT045</th>\n",
       "      <th>Outlet_OUT046</th>\n",
       "      <th>Outlet_OUT049</th>\n",
       "    </tr>\n",
       "  </thead>\n",
       "  <tbody>\n",
       "    <tr>\n",
       "      <th>0</th>\n",
       "      <td>FDA15</td>\n",
       "      <td>3735.1380</td>\n",
       "      <td>0.016047</td>\n",
       "      <td>OUT049</td>\n",
       "      <td>20</td>\n",
       "      <td>26.861204</td>\n",
       "      <td>0</td>\n",
       "      <td>0</td>\n",
       "      <td>0</td>\n",
       "      <td>0</td>\n",
       "      <td>...</td>\n",
       "      <td>0</td>\n",
       "      <td>0</td>\n",
       "      <td>0</td>\n",
       "      <td>0</td>\n",
       "      <td>0</td>\n",
       "      <td>0</td>\n",
       "      <td>0</td>\n",
       "      <td>0</td>\n",
       "      <td>0</td>\n",
       "      <td>1</td>\n",
       "    </tr>\n",
       "    <tr>\n",
       "      <th>1</th>\n",
       "      <td>DRC01</td>\n",
       "      <td>443.4228</td>\n",
       "      <td>0.019278</td>\n",
       "      <td>OUT018</td>\n",
       "      <td>10</td>\n",
       "      <td>8.153581</td>\n",
       "      <td>0</td>\n",
       "      <td>1</td>\n",
       "      <td>0</td>\n",
       "      <td>0</td>\n",
       "      <td>...</td>\n",
       "      <td>0</td>\n",
       "      <td>0</td>\n",
       "      <td>0</td>\n",
       "      <td>1</td>\n",
       "      <td>0</td>\n",
       "      <td>0</td>\n",
       "      <td>0</td>\n",
       "      <td>0</td>\n",
       "      <td>0</td>\n",
       "      <td>0</td>\n",
       "    </tr>\n",
       "  </tbody>\n",
       "</table>\n",
       "<p>2 rows × 31 columns</p>\n",
       "</div>"
      ],
      "text/plain": [
       "  Item_Identifier  Item_Outlet_Sales  Item_Visibility Outlet_Identifier  \\\n",
       "0           FDA15          3735.1380         0.016047            OUT049   \n",
       "1           DRC01           443.4228         0.019278            OUT018   \n",
       "\n",
       "   Operational_Years  Price_Per_Unit_Weight  Item_Fat_Content_No Fat  \\\n",
       "0                 20              26.861204                        0   \n",
       "1                 10               8.153581                        0   \n",
       "\n",
       "   Item_Fat_Content_Regular  Item_MRP_2nd  Item_MRP_3rd      ...        \\\n",
       "0                         0             0             0      ...         \n",
       "1                         1             0             0      ...         \n",
       "\n",
       "   Item_Id_Non-Consumable  Outlet_OUT013  Outlet_OUT017  Outlet_OUT018  \\\n",
       "0                       0              0              0              0   \n",
       "1                       0              0              0              1   \n",
       "\n",
       "   Outlet_OUT019  Outlet_OUT027  Outlet_OUT035  Outlet_OUT045  Outlet_OUT046  \\\n",
       "0              0              0              0              0              0   \n",
       "1              0              0              0              0              0   \n",
       "\n",
       "   Outlet_OUT049  \n",
       "0              1  \n",
       "1              0  \n",
       "\n",
       "[2 rows x 31 columns]"
      ]
     },
     "execution_count": 82,
     "metadata": {},
     "output_type": "execute_result"
    }
   ],
   "source": [
    "train.head(2)"
   ]
  },
  {
   "cell_type": "code",
   "execution_count": 83,
   "metadata": {},
   "outputs": [],
   "source": [
    "c = train.corr()"
   ]
  },
  {
   "cell_type": "code",
   "execution_count": 84,
   "metadata": {},
   "outputs": [],
   "source": [
    "import seaborn as sns\n",
    "import matplotlib.pyplot as plt"
   ]
  },
  {
   "cell_type": "code",
   "execution_count": 86,
   "metadata": {},
   "outputs": [
    {
     "name": "stderr",
     "output_type": "stream",
     "text": [
      "C:\\Anaconda3\\lib\\site-packages\\scipy\\stats\\stats.py:1713: FutureWarning: Using a non-tuple sequence for multidimensional indexing is deprecated; use `arr[tuple(seq)]` instead of `arr[seq]`. In the future this will be interpreted as an array index, `arr[np.array(seq)]`, which will result either in an error or a different result.\n",
      "  return np.add.reduce(sorted[indexer] * weights, axis=axis) / sumval\n"
     ]
    },
    {
     "data": {
      "text/plain": [
       "<matplotlib.axes._subplots.AxesSubplot at 0x12e844084a8>"
      ]
     },
     "execution_count": 86,
     "metadata": {},
     "output_type": "execute_result"
    },
    {
     "data": {
      "image/png": "[encoded data removed]",
      "text/plain": [
       "<Figure size 432x288 with 1 Axes>"
      ]
     },
     "metadata": {
      "needs_background": "light"
     },
     "output_type": "display_data"
    }
   ],
   "source": [
    "sns.distplot(train['Item_Visibility'])"
   ]
  },
  {
   "cell_type": "code",
   "execution_count": 87,
   "metadata": {},
   "outputs": [
    {
     "name": "stderr",
     "output_type": "stream",
     "text": [
      "C:\\Anaconda3\\lib\\site-packages\\scipy\\stats\\stats.py:1713: FutureWarning: Using a non-tuple sequence for multidimensional indexing is deprecated; use `arr[tuple(seq)]` instead of `arr[seq]`. In the future this will be interpreted as an array index, `arr[np.array(seq)]`, which will result either in an error or a different result.\n",
      "  return np.add.reduce(sorted[indexer] * weights, axis=axis) / sumval\n"
     ]
    },
    {
     "data": {
      "text/plain": [
       "<matplotlib.axes._subplots.AxesSubplot at 0x12e844d8828>"
      ]
     },
     "execution_count": 87,
     "metadata": {},
     "output_type": "execute_result"
    },
    {
     "data": {
      "image/png": "[encoded data removed]",
      "text/plain": [
       "<Figure size 432x288 with 1 Axes>"
      ]
     },
     "metadata": {
      "needs_background": "light"
     },
     "output_type": "display_data"
    }
   ],
   "source": [
    "sns.distplot(train['Price_Per_Unit_Weight'])"
   ]
  },
  {
   "cell_type": "markdown",
   "metadata": {},
   "source": [
    "We can see that Item_Visibility and Price_Per_Unit_Weight has positively skewed distribution. So, we will use log transform to make them approximately normal."
   ]
  },
  {
   "cell_type": "code",
   "execution_count": 88,
   "metadata": {},
   "outputs": [],
   "source": [
    "train['Item_Visibility'] = np.log(train['Item_Visibility'])\n",
    "train['Price_Per_Unit_Weight'] = np.log(train['Price_Per_Unit_Weight'])\n",
    "\n",
    "test['Item_Visibility'] = np.log(test['Item_Visibility'])\n",
    "test['Price_Per_Unit_Weight'] = np.log(test['Price_Per_Unit_Weight'])"
   ]
  },
  {
   "cell_type": "code",
   "execution_count": 92,
   "metadata": {},
   "outputs": [
    {
     "data": {
      "text/plain": [
       "<matplotlib.axes._subplots.AxesSubplot at 0x12e84eda240>"
      ]
     },
     "execution_count": 92,
     "metadata": {},
     "output_type": "execute_result"
    },
    {
     "data": {
      "image/png": "[encoded data removed]",
      "text/plain": [
       "<Figure size 432x288 with 1 Axes>"
      ]
     },
     "metadata": {
      "needs_background": "light"
     },
     "output_type": "display_data"
    }
   ],
   "source": [
    "sns.distplot(train['Price_Per_Unit_Weight'])"
   ]
  },
  {
   "cell_type": "code",
   "execution_count": 93,
   "metadata": {},
   "outputs": [
    {
     "data": {
      "text/plain": [
       "<matplotlib.axes._subplots.AxesSubplot at 0x12e8500b630>"
      ]
     },
     "execution_count": 93,
     "metadata": {},
     "output_type": "execute_result"
    },
    {
     "data": {
      "image/png": "[encoded data removed]",
      "text/plain": [
       "<Figure size 792x648 with 2 Axes>"
      ]
     },
     "metadata": {
      "needs_background": "light"
     },
     "output_type": "display_data"
    }
   ],
   "source": [
    "# Plotting correlation matrix for train dataframe\n",
    "\n",
    "# Generate a mask for the upper triangle\n",
    "mask = np.zeros_like(c, dtype=np.bool)\n",
    "mask[np.triu_indices_from(mask)] = True\n",
    "\n",
    "# Set up the matplotlib figure\n",
    "f, ax = plt.subplots(figsize=(11, 9))\n",
    "\n",
    "# Generate a custom diverging colormap\n",
    "cmap = sns.diverging_palette(220, 10, as_cmap=True)\n",
    "\n",
    "# Draw the heatmap with the mask and correct aspect ratio\n",
    "sns.heatmap(c, mask=mask, cmap=cmap, vmax=.3, center=0,\n",
    "            square=True, linewidths=.5, cbar_kws={\"shrink\": .9})"
   ]
  },
  {
   "cell_type": "code",
   "execution_count": 94,
   "metadata": {},
   "outputs": [],
   "source": [
    "# Removing Item_Identifier and Outlet_Identifier\n",
    "train.drop(labels=['Item_Identifier', 'Outlet_Identifier'], inplace=True, axis=1)"
   ]
  },
  {
   "cell_type": "code",
   "execution_count": 98,
   "metadata": {},
   "outputs": [],
   "source": [
    "X = train.iloc[:, 1:].values\n",
    "y = train.iloc[:, 0].values\n",
    "X_test = test.drop(['Item_Identifier', 'Outlet_Identifier'], axis=1).iloc[: , :]"
   ]
  },
  {
   "cell_type": "markdown",
   "metadata": {},
   "source": [
    "<h4> Multiple Linear Regression </h4>"
   ]
  },
  {
   "cell_type": "code",
   "execution_count": 109,
   "metadata": {},
   "outputs": [],
   "source": [
    "from sklearn.model_selection import cross_val_score, GridSearchCV\n",
    "from sklearn.linear_model import LinearRegression\n",
    "from sklearn.metrics import SCORERS"
   ]
  },
  {
   "cell_type": "code",
   "execution_count": 116,
   "metadata": {},
   "outputs": [
    {
     "data": {
      "text/plain": [
       "LinearRegression(copy_X=True, fit_intercept=True, n_jobs=None, normalize=True)"
      ]
     },
     "execution_count": 116,
     "metadata": {},
     "output_type": "execute_result"
    }
   ],
   "source": [
    "lr = LinearRegression(normalize=True)\n",
    "lr.fit(X, y)"
   ]
  },
  {
   "cell_type": "code",
   "execution_count": 117,
   "metadata": {},
   "outputs": [
    {
     "name": "stdout",
     "output_type": "stream",
     "text": [
      "1153.3574825058959\n",
      "357.4887634582804\n"
     ]
    }
   ],
   "source": [
    "mean_sq_error = cross_val_score(lr,X,y=y, cv=X.shape[1], scoring='neg_mean_squared_error').mean()\n",
    "std = cross_val_score(lr,X,y=y, cv=X.shape[1], scoring='neg_mean_squared_error').std()\n",
    "print(np.abs(mean_sq_error) ** 0.5)\n",
    "print(np.abs(std) ** 0.5)"
   ]
  },
  {
   "cell_type": "code",
   "execution_count": 127,
   "metadata": {},
   "outputs": [
    {
     "data": {
      "text/plain": [
       "<matplotlib.axes._subplots.AxesSubplot at 0x12e93aeafd0>"
      ]
     },
     "execution_count": 127,
     "metadata": {},
     "output_type": "execute_result"
    },
    {
     "data": {
      "image/png": "[encoded data removed]",
      "text/plain": [
       "<Figure size 432x288 with 1 Axes>"
      ]
     },
     "metadata": {
      "needs_background": "light"
     },
     "output_type": "display_data"
    }
   ],
   "source": [
    "predictors = [x for x in train.columns if x != 'Item_Outlet_Sales']\n",
    "coefficients = pd.Series(lr.coef_, predictors).sort_values()\n",
    "coefficients.plot(kind='bar', title = 'Linear Regression Coefficients')"
   ]
  },
  {
   "cell_type": "code",
   "execution_count": 128,
   "metadata": {},
   "outputs": [],
   "source": [
    "# Lets make predictions\n",
    "y_pred = lr.predict(X_test)"
   ]
  },
  {
   "cell_type": "code",
   "execution_count": 129,
   "metadata": {},
   "outputs": [],
   "source": [
    "submission1 = test[['Item_Identifier', 'Outlet_Identifier']]"
   ]
  },
  {
   "cell_type": "code",
   "execution_count": 131,
   "metadata": {},
   "outputs": [
    {
     "name": "stderr",
     "output_type": "stream",
     "text": [
      "C:\\Anaconda3\\lib\\site-packages\\ipykernel_launcher.py:1: SettingWithCopyWarning: \n",
      "A value is trying to be set on a copy of a slice from a DataFrame.\n",
      "Try using .loc[row_indexer,col_indexer] = value instead\n",
      "\n",
      "See the caveats in the documentation: http://pandas.pydata.org/pandas-docs/stable/indexing.html#indexing-view-versus-copy\n",
      "  \"\"\"Entry point for launching an IPython kernel.\n"
     ]
    }
   ],
   "source": [
    "submission1['Item_Outlet_Sales'] = pd.Series(y_pred)"
   ]
  },
  {
   "cell_type": "code",
   "execution_count": 133,
   "metadata": {},
   "outputs": [],
   "source": [
    "submission1.to_csv('../Submission1.csv', index=False)"
   ]
  },
  {
   "cell_type": "markdown",
   "metadata": {},
   "source": [
    "<h4> Ridge </h4>"
   ]
  },
  {
   "cell_type": "code",
   "execution_count": 134,
   "metadata": {},
   "outputs": [],
   "source": [
    "from sklearn.linear_model import Ridge"
   ]
  },
  {
   "cell_type": "code",
   "execution_count": 146,
   "metadata": {},
   "outputs": [],
   "source": [
    "ridge = Ridge()"
   ]
  },
  {
   "cell_type": "code",
   "execution_count": 152,
   "metadata": {},
   "outputs": [
    {
     "data": {
      "text/plain": [
       "GridSearchCV(cv=28, error_score='raise-deprecating',\n",
       "       estimator=Ridge(alpha=1.0, copy_X=True, fit_intercept=True, max_iter=None,\n",
       "   normalize=False, random_state=None, solver='auto', tol=0.001),\n",
       "       fit_params=None, iid='warn', n_jobs=None,\n",
       "       param_grid={'alpha': [1e-05, 0.001, 0.01, 0.05, 1, 5, 10, 20]},\n",
       "       pre_dispatch='2*n_jobs', refit=True, return_train_score='warn',\n",
       "       scoring='neg_mean_squared_error', verbose=0)"
      ]
     },
     "execution_count": 152,
     "metadata": {},
     "output_type": "execute_result"
    }
   ],
   "source": [
    "parameters = {'alpha':[0.00001, 0.001, 0.01, 0.05, 1, 5, 10, 20]}\n",
    "best_ridge = GridSearchCV(ridge, parameters, scoring='neg_mean_squared_error', cv = X.shape[1])\n",
    "best_ridge.fit(X, y)"
   ]
  },
  {
   "cell_type": "code",
   "execution_count": 153,
   "metadata": {},
   "outputs": [
    {
     "name": "stdout",
     "output_type": "stream",
     "text": [
      "{'alpha': 0.05}\n",
      "1153.3523116921776\n"
     ]
    }
   ],
   "source": [
    "print(best_ridge.best_params_)\n",
    "print(np.abs(best_ridge.best_score_)**0.5)"
   ]
  },
  {
   "cell_type": "code",
   "execution_count": 154,
   "metadata": {},
   "outputs": [
    {
     "data": {
      "text/plain": [
       "Ridge(alpha=0.05, copy_X=True, fit_intercept=True, max_iter=None,\n",
       "   normalize=False, random_state=None, solver='auto', tol=0.001)"
      ]
     },
     "execution_count": 154,
     "metadata": {},
     "output_type": "execute_result"
    }
   ],
   "source": [
    "ridge = Ridge(alpha=0.05)\n",
    "ridge.fit(X, y)"
   ]
  },
  {
   "cell_type": "code",
   "execution_count": 155,
   "metadata": {},
   "outputs": [],
   "source": [
    "# Making Predictions\n",
    "y_pred = ridge.predict(X_test)"
   ]
  },
  {
   "cell_type": "code",
   "execution_count": 156,
   "metadata": {},
   "outputs": [
    {
     "name": "stderr",
     "output_type": "stream",
     "text": [
      "C:\\Anaconda3\\lib\\site-packages\\ipykernel_launcher.py:2: SettingWithCopyWarning: \n",
      "A value is trying to be set on a copy of a slice from a DataFrame.\n",
      "Try using .loc[row_indexer,col_indexer] = value instead\n",
      "\n",
      "See the caveats in the documentation: http://pandas.pydata.org/pandas-docs/stable/indexing.html#indexing-view-versus-copy\n",
      "  \n"
     ]
    }
   ],
   "source": [
    "submission1 = test[['Item_Identifier', 'Outlet_Identifier']]\n",
    "submission1['Item_Outlet_Sales'] = pd.Series(y_pred)"
   ]
  },
  {
   "cell_type": "code",
   "execution_count": 157,
   "metadata": {},
   "outputs": [],
   "source": [
    "submission1.to_csv('../Submission2.csv', index=False)"
   ]
  },
  {
   "cell_type": "markdown",
   "metadata": {},
   "source": [
    "<h4> Lasso </h4>"
   ]
  },
  {
   "cell_type": "code",
   "execution_count": 169,
   "metadata": {},
   "outputs": [],
   "source": [
    "from sklearn.linear_model import Lasso"
   ]
  },
  {
   "cell_type": "code",
   "execution_count": 170,
   "metadata": {},
   "outputs": [],
   "source": [
    "lasso = Lasso()"
   ]
  },
  {
   "cell_type": "code",
   "execution_count": 171,
   "metadata": {},
   "outputs": [
    {
     "data": {
      "text/plain": [
       "GridSearchCV(cv=28, error_score='raise-deprecating',\n",
       "       estimator=Ridge(alpha=0.05, copy_X=True, fit_intercept=True, max_iter=None,\n",
       "   normalize=False, random_state=None, solver='auto', tol=0.001),\n",
       "       fit_params=None, iid='warn', n_jobs=-1,\n",
       "       param_grid={'alpha': [0.0001, 0.00030000000000000003, 0.0005000000000000001, 0.0007000000000000001, 0.0009000000000000002, 0.0011000000000000003, 0.0013000000000000002, 0.0015000000000000002, 0.0017000000000000003, 0.0019000000000000004, 0.0021000000000000003, 0.0023000000000000004, 0.0025, 0.0027, ...00000001, 0.008900000000000002, 0.0091, 0.009300000000000001, 0.009500000000000001, 0.0097, 0.0099]},\n",
       "       pre_dispatch='2*n_jobs', refit=True, return_train_score='warn',\n",
       "       scoring='neg_mean_squared_error', verbose=0)"
      ]
     },
     "execution_count": 171,
     "metadata": {},
     "output_type": "execute_result"
    }
   ],
   "source": [
    "parameters = {'alpha':[x for x in np.arange(0.0001, 0.01, 0.0002)]}\n",
    "best_lasso = GridSearchCV(ridge, parameters, scoring='neg_mean_squared_error', cv = X.shape[1], n_jobs=-1)\n",
    "best_lasso.fit(X, y)"
   ]
  },
  {
   "cell_type": "code",
   "execution_count": 172,
   "metadata": {},
   "outputs": [
    {
     "name": "stdout",
     "output_type": "stream",
     "text": [
      "{'alpha': 0.0099}\n",
      "1153.3524259986937\n"
     ]
    }
   ],
   "source": [
    "print(best_lasso.best_params_)\n",
    "print(np.abs(best_lasso.best_score_)**0.5)"
   ]
  },
  {
   "cell_type": "markdown",
   "metadata": {},
   "source": [
    "<h4> Random Forest </h4>"
   ]
  },
  {
   "cell_type": "code",
   "execution_count": 173,
   "metadata": {},
   "outputs": [],
   "source": [
    "from sklearn.ensemble import RandomForestRegressor"
   ]
  },
  {
   "cell_type": "code",
   "execution_count": 182,
   "metadata": {},
   "outputs": [
    {
     "data": {
      "text/plain": [
       "RandomForestRegressor(bootstrap=True, criterion='mse', max_depth=None,\n",
       "           max_features='auto', max_leaf_nodes=None,\n",
       "           min_impurity_decrease=0.0, min_impurity_split=None,\n",
       "           min_samples_leaf=1, min_samples_split=2,\n",
       "           min_weight_fraction_leaf=0.0, n_estimators=10, n_jobs=None,\n",
       "           oob_score=False, random_state=None, verbose=0, warm_start=False)"
      ]
     },
     "execution_count": 182,
     "metadata": {},
     "output_type": "execute_result"
    }
   ],
   "source": [
    "rfr = RandomForestRegressor(n_estimators=10)\n",
    "rfr.fit(X, y)"
   ]
  },
  {
   "cell_type": "code",
   "execution_count": 184,
   "metadata": {},
   "outputs": [
    {
     "name": "stdout",
     "output_type": "stream",
     "text": [
      "Best: 1124.189817 using {'max_depth': 10, 'max_features': 'sqrt', 'n_estimators': 30}\n"
     ]
    }
   ],
   "source": [
    "# Hyperparameter tuning for RandomForest\n",
    "parameters = [{'n_estimators':[10,20,30,40,50], 'max_depth':[10,20,30,50,100,None], \n",
    "               'max_features':['auto','sqrt','log2',None]}]\n",
    "grid = GridSearchCV(rfr, parameters, scoring='neg_mean_squared_error', cv=X.shape[1], n_jobs=-1)\n",
    "grid.fit(X,y)\n",
    "print(\"Best: %f using %s\" % (np.abs(grid.best_score_)**0.5, grid.best_params_))"
   ]
  },
  {
   "cell_type": "code",
   "execution_count": 185,
   "metadata": {},
   "outputs": [
    {
     "data": {
      "text/plain": [
       "RandomForestRegressor(bootstrap=True, criterion='mse', max_depth=10,\n",
       "           max_features='sqrt', max_leaf_nodes=None,\n",
       "           min_impurity_decrease=0.0, min_impurity_split=None,\n",
       "           min_samples_leaf=1, min_samples_split=2,\n",
       "           min_weight_fraction_leaf=0.0, n_estimators=30, n_jobs=None,\n",
       "           oob_score=False, random_state=None, verbose=0, warm_start=False)"
      ]
     },
     "execution_count": 185,
     "metadata": {},
     "output_type": "execute_result"
    }
   ],
   "source": [
    "rfr_tuned = RandomForestRegressor(n_estimators=30, max_depth=10, max_features='sqrt')\n",
    "rfr_tuned.fit(X, y)"
   ]
  },
  {
   "cell_type": "code",
   "execution_count": 186,
   "metadata": {},
   "outputs": [
    {
     "name": "stdout",
     "output_type": "stream",
     "text": [
      "1125.1763039452173\n",
      "349.3106998535757\n"
     ]
    }
   ],
   "source": [
    "mean_sq_error = cross_val_score(rfr_tuned ,X,y=y, cv=X.shape[1], scoring='neg_mean_squared_error').mean()\n",
    "std = cross_val_score(rfr_tuned ,X,y=y, cv=X.shape[1], scoring='neg_mean_squared_error').std()\n",
    "print(np.abs(mean_sq_error) ** 0.5)\n",
    "print(np.abs(std) ** 0.5)"
   ]
  },
  {
   "cell_type": "code",
   "execution_count": 187,
   "metadata": {},
   "outputs": [],
   "source": [
    "# Making Predictions\n",
    "y_pred = rfr_tuned.predict(X_test)"
   ]
  },
  {
   "cell_type": "code",
   "execution_count": 188,
   "metadata": {},
   "outputs": [
    {
     "name": "stderr",
     "output_type": "stream",
     "text": [
      "C:\\Anaconda3\\lib\\site-packages\\ipykernel_launcher.py:2: SettingWithCopyWarning: \n",
      "A value is trying to be set on a copy of a slice from a DataFrame.\n",
      "Try using .loc[row_indexer,col_indexer] = value instead\n",
      "\n",
      "See the caveats in the documentation: http://pandas.pydata.org/pandas-docs/stable/indexing.html#indexing-view-versus-copy\n",
      "  \n"
     ]
    }
   ],
   "source": [
    "submission1 = test[['Item_Identifier', 'Outlet_Identifier']]\n",
    "submission1['Item_Outlet_Sales'] = pd.Series(y_pred)"
   ]
  },
  {
   "cell_type": "code",
   "execution_count": 189,
   "metadata": {},
   "outputs": [],
   "source": [
    "submission1.to_csv('../Submission4.csv', index=False)"
   ]
  }
 ],
 "metadata": {
  "kernelspec": {
   "display_name": "Python 3",
   "language": "python",
   "name": "python3"
  },
  "language_info": {
   "codemirror_mode": {
    "name": "ipython",
    "version": 3
   },
   "file_extension": ".py",
   "mimetype": "text/x-python",
   "name": "python",
   "nbconvert_exporter": "python",
   "pygments_lexer": "ipython3",
   "version": "3.6.7"
  }
 },
 "nbformat": 4,
 "nbformat_minor": 2
}
